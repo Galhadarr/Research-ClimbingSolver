{
 "cells": [
  {
   "cell_type": "code",
   "execution_count": 1,
   "metadata": {},
   "outputs": [],
   "source": [
    "import os\n",
    "import pandas as pd\n",
    "import numpy as np\n",
    "import json\n",
    "import sys\n",
    "sys.path.append(\"..\")\n",
    "from algorithm import a_star_algorithm\n",
    "from arm_state import ArmState, set_arm_length\n",
    "from hold import Hold\n",
    "from human_state import HumanState, set_leg_spread\n",
    "from leg_state import LegState, set_leg_length\n",
    "from utils import Side\n",
    "from search_node import Search_Node\n",
    "from visualization import create_animation"
   ]
  },
  {
   "cell_type": "code",
   "execution_count": 2,
   "metadata": {},
   "outputs": [],
   "source": [
    "def create_json(experiment_name, path):\n",
    "    path_json = []\n",
    "    for node in path:\n",
    "        human_state = {\n",
    "            \"left_arm\": {\n",
    "                \"hand_position\": node.human_state.left_arm_state.hand_position.tolist(),\n",
    "                \"shoulder_position\": node.human_state.left_arm_state.shoulder_position.tolist(),\n",
    "            },\n",
    "            \"right_arm\": {\n",
    "                \"hand_position\": node.human_state.right_arm_state.hand_position.tolist(),\n",
    "                \"shoulder_position\": node.human_state.right_arm_state.shoulder_position.tolist(),\n",
    "            },\n",
    "            \"left_leg\": {\n",
    "                \"foot_position\": node.human_state.left_leg_state.foot_position.tolist(),\n",
    "                \"knee_position\": node.human_state.left_leg_state.knee_position.tolist(),\n",
    "                \"hip_position\": node.human_state.left_leg_state.hip_position.tolist(),\n",
    "            },\n",
    "            \"right_leg\": {\n",
    "                \"foot_position\": node.human_state.right_leg_state.foot_position.tolist(),\n",
    "                \"knee_position\": node.human_state.right_leg_state.knee_position.tolist(),\n",
    "                \"hip_position\": node.human_state.right_leg_state.hip_position.tolist(),\n",
    "            }\n",
    "        }\n",
    "        path_json.append(human_state)\n",
    "\n",
    "    # Convert to JSON string (you can also write this to a file if needed)\n",
    "    path_json_str = json.dumps(path_json, indent=2)\n",
    "    \n",
    "    file_path = f\"results\\{experiment_name}_climber_path.json\"\n",
    "    # save the path to a json file\n",
    "    with open(file_path, \"w\") as file:\n",
    "        file.write(path_json_str)\n",
    "    print(f\"Path has been saved to {file_path}.\")"
   ]
  },
  {
   "cell_type": "markdown",
   "metadata": {},
   "source": [
    "# Same wall, different climbers"
   ]
  },
  {
   "cell_type": "markdown",
   "metadata": {},
   "source": [
    "### Wall"
   ]
  },
  {
   "cell_type": "code",
   "execution_count": 20,
   "metadata": {},
   "outputs": [],
   "source": [
    "# Define wall holds and goal state positions.\n",
    "base_wall_holds: list[Hold] = [\n",
    "    Hold(x,y) for x in range(1, 11, 2) for y in range(1, 21, 2)\n",
    "    ]\n",
    "\n",
    "goal_state_positions = [np.array([9,19]), np.array([9,19])]"
   ]
  },
  {
   "cell_type": "markdown",
   "metadata": {},
   "source": [
    "### Climber 1"
   ]
  },
  {
   "cell_type": "code",
   "execution_count": 4,
   "metadata": {},
   "outputs": [],
   "source": [
    "# Define starting left leg configuration.\n",
    "starting_left_foot_hold = Hold(3, 1)\n",
    "starting_left_knee_position = np.array([2,2.75])\n",
    "starting_left_hip_position = np.array([3, 4])\n",
    "\n",
    "# Define starting right leg configuration.\n",
    "starting_right_foot_hold = Hold(5, 1)\n",
    "starting_right_knee_position = np.array([6, 2.75])\n",
    "starting_right_hip_position = np.array([5, 4])\n",
    "\n",
    "# Define starting left arm configuration.\n",
    "starting_left_hand_hold = Hold(1, 7)\n",
    "starting_left_shoulder_position = np.array([3, 5.5])\n",
    "\n",
    "# Define starting right arm configuration.\n",
    "starting_right_hand_hold = Hold(5,7)\n",
    "starting_right_shoulder_position = np.array([5, 5.5])\n",
    "\n",
    "# Define initial human state based on starting body configurations.\n",
    "starting_left_leg_state = LegState(Side.LEFT, starting_left_foot_hold, starting_left_knee_position,\n",
    "                                    starting_left_hip_position)\n",
    "starting_right_leg_state = LegState(Side.RIGHT, starting_right_foot_hold, starting_right_knee_position,\n",
    "                                    starting_right_hip_position)\n",
    "starting_left_arm_state = ArmState(Side.LEFT, starting_left_hand_hold, starting_left_shoulder_position)\n",
    "starting_right_arm_state = ArmState(Side.RIGHT, starting_right_hand_hold, starting_right_shoulder_position)\n",
    "starting_human_state = HumanState(starting_left_leg_state, starting_right_leg_state, starting_left_arm_state,\n",
    "                                    starting_right_arm_state)\n",
    "\n",
    "# Define body physique constants.\n",
    "set_leg_spread(np.float_(np.float64(2.0943951)))\n",
    "set_arm_length(np.float_(np.float64(2.5)))\n",
    "set_leg_length(starting_right_foot_hold, starting_right_knee_position, starting_right_hip_position)"
   ]
  },
  {
   "cell_type": "code",
   "execution_count": 5,
   "metadata": {},
   "outputs": [],
   "source": [
    "path:list[Search_Node] | None = a_star_algorithm(starting_human_state, goal_state_positions, base_wall_holds)"
   ]
  },
  {
   "cell_type": "code",
   "execution_count": 20,
   "metadata": {},
   "outputs": [
    {
     "name": "stdout",
     "output_type": "stream",
     "text": [
      "Path has been saved to results\\2climbers_samewall_climber_path.json.\n"
     ]
    }
   ],
   "source": [
    "create_json(\"2climbers_samewall\", path)"
   ]
  },
  {
   "cell_type": "markdown",
   "metadata": {},
   "source": [
    "### Climber 2 (longer arms)"
   ]
  },
  {
   "cell_type": "code",
   "execution_count": 26,
   "metadata": {},
   "outputs": [],
   "source": [
    "# Define starting left leg configuration.\n",
    "starting_left_foot_hold = Hold(3, 1)\n",
    "starting_left_knee_position = np.array([2,2.75])\n",
    "starting_left_hip_position = np.array([3, 4])\n",
    "\n",
    "# Define starting right leg configuration.\n",
    "starting_right_foot_hold = Hold(5, 1)\n",
    "starting_right_knee_position = np.array([6, 2.75])\n",
    "starting_right_hip_position = np.array([5, 4])\n",
    "\n",
    "# Define starting left arm configuration.\n",
    "starting_left_hand_hold = Hold(1, 7)\n",
    "starting_left_shoulder_position = np.array([3, 5.5])\n",
    "\n",
    "# Define starting right arm configuration.\n",
    "starting_right_hand_hold = Hold(5,7)\n",
    "starting_right_shoulder_position = np.array([5, 5.5])\n",
    "\n",
    "# Define initial human state based on starting body configurations.\n",
    "starting_left_leg_state = LegState(Side.LEFT, starting_left_foot_hold, starting_left_knee_position,\n",
    "                                    starting_left_hip_position)\n",
    "starting_right_leg_state = LegState(Side.RIGHT, starting_right_foot_hold, starting_right_knee_position,\n",
    "                                    starting_right_hip_position)\n",
    "starting_left_arm_state = ArmState(Side.LEFT, starting_left_hand_hold, starting_left_shoulder_position)\n",
    "starting_right_arm_state = ArmState(Side.RIGHT, starting_right_hand_hold, starting_right_shoulder_position)\n",
    "starting_human_state = HumanState(starting_left_leg_state, starting_right_leg_state, starting_left_arm_state,\n",
    "                                    starting_right_arm_state)\n",
    "\n",
    "# Define body physique constants.\n",
    "set_leg_spread(np.float_(np.float64(2.0943951)))\n",
    "set_arm_length(np.float_(np.float64(3)))\n",
    "set_leg_length(starting_right_foot_hold, starting_right_knee_position, starting_right_hip_position)"
   ]
  },
  {
   "cell_type": "code",
   "execution_count": 27,
   "metadata": {},
   "outputs": [],
   "source": [
    "path:list[Search_Node] | None = a_star_algorithm(starting_human_state, goal_state_positions, base_wall_holds)"
   ]
  },
  {
   "cell_type": "code",
   "execution_count": 28,
   "metadata": {},
   "outputs": [
    {
     "name": "stdout",
     "output_type": "stream",
     "text": [
      "Path has been saved to results\\2climbers_samewall(taller)_climber_path.json.\n"
     ]
    }
   ],
   "source": [
    "create_json(\"2climbers_samewall(taller)\", path)"
   ]
  },
  {
   "cell_type": "markdown",
   "metadata": {},
   "source": [
    "### compare"
   ]
  },
  {
   "cell_type": "code",
   "execution_count": 44,
   "metadata": {},
   "outputs": [],
   "source": [
    "def compare_jsons(json1_path, json2_path):\n",
    "    with open(json1_path, \"r\") as file:\n",
    "        json1 = json.load(file)\n",
    "    with open(json2_path, \"r\") as file:\n",
    "        json2 = json.load(file)\n",
    "    if len(json1) != len(json2):\n",
    "        print(f\"The paths have different lengths. \\n number of steps in {json1_path}: {len(json1)} \\n number of steps in {json2_path}: {len(json2)}\")\n",
    "        return\n",
    "    print(\"The paths are the same.\")"
   ]
  },
  {
   "cell_type": "code",
   "execution_count": 53,
   "metadata": {},
   "outputs": [
    {
     "name": "stdout",
     "output_type": "stream",
     "text": [
      "The paths have different lengths. \n",
      " number of steps in results\\2climbers_samewall_climber_path.json: 17 \n",
      " number of steps in results\\2climbers_samewall(taller)_climber_path.json: 16\n"
     ]
    }
   ],
   "source": [
    "file1_path = 'results\\\\2climbers_samewall_climber_path.json'\n",
    "file2_path = 'results\\\\2climbers_samewall(taller)_climber_path.json'\n",
    "compare_jsons(file1_path, file2_path)"
   ]
  },
  {
   "cell_type": "markdown",
   "metadata": {},
   "source": [
    "# Same climber, different walls"
   ]
  },
  {
   "cell_type": "markdown",
   "metadata": {},
   "source": [
    "### Climber 1"
   ]
  },
  {
   "cell_type": "code",
   "execution_count": 48,
   "metadata": {},
   "outputs": [],
   "source": [
    "# Define starting left leg configuration.\n",
    "starting_left_foot_hold = Hold(3, 1)\n",
    "starting_left_knee_position = np.array([2,2.75])\n",
    "starting_left_hip_position = np.array([3, 4])\n",
    "\n",
    "# Define starting right leg configuration.\n",
    "starting_right_foot_hold = Hold(5, 1)\n",
    "starting_right_knee_position = np.array([6, 2.75])\n",
    "starting_right_hip_position = np.array([5, 4])\n",
    "\n",
    "# Define starting left arm configuration.\n",
    "starting_left_hand_hold = Hold(1, 7)\n",
    "starting_left_shoulder_position = np.array([3, 5.5])\n",
    "\n",
    "# Define starting right arm configuration.\n",
    "starting_right_hand_hold = Hold(5,7)\n",
    "starting_right_shoulder_position = np.array([5, 5.5])\n",
    "\n",
    "# Define initial human state based on starting body configurations.\n",
    "starting_left_leg_state = LegState(Side.LEFT, starting_left_foot_hold, starting_left_knee_position,\n",
    "                                    starting_left_hip_position)\n",
    "starting_right_leg_state = LegState(Side.RIGHT, starting_right_foot_hold, starting_right_knee_position,\n",
    "                                    starting_right_hip_position)\n",
    "starting_left_arm_state = ArmState(Side.LEFT, starting_left_hand_hold, starting_left_shoulder_position)\n",
    "starting_right_arm_state = ArmState(Side.RIGHT, starting_right_hand_hold, starting_right_shoulder_position)\n",
    "starting_human_state = HumanState(starting_left_leg_state, starting_right_leg_state, starting_left_arm_state,\n",
    "                                    starting_right_arm_state)\n",
    "\n",
    "# Define body physique constants.\n",
    "set_leg_spread(np.float_(np.float64(2.0943951)))\n",
    "set_arm_length(np.float_(np.float64(2.5)))\n",
    "set_leg_length(starting_right_foot_hold, starting_right_knee_position, starting_right_hip_position)"
   ]
  },
  {
   "cell_type": "markdown",
   "metadata": {},
   "source": [
    "### Climber 2"
   ]
  },
  {
   "cell_type": "code",
   "execution_count": 3,
   "metadata": {},
   "outputs": [],
   "source": [
    "# Define starting left leg configuration.\n",
    "starting_left_foot_hold = Hold(3, 1)\n",
    "starting_left_knee_position = np.array([2,2.75])\n",
    "starting_left_hip_position = np.array([3, 4])\n",
    "\n",
    "# Define starting right leg configuration.\n",
    "starting_right_foot_hold = Hold(5, 1)\n",
    "starting_right_knee_position = np.array([6, 2.75])\n",
    "starting_right_hip_position = np.array([5, 4])\n",
    "\n",
    "# Define starting left arm configuration.\n",
    "starting_left_hand_hold = Hold(1, 7)\n",
    "starting_left_shoulder_position = np.array([3, 5.5])\n",
    "\n",
    "# Define starting right arm configuration.\n",
    "starting_right_hand_hold = Hold(5,7)\n",
    "starting_right_shoulder_position = np.array([5, 5.5])\n",
    "\n",
    "# Define initial human state based on starting body configurations.\n",
    "starting_left_leg_state = LegState(Side.LEFT, starting_left_foot_hold, starting_left_knee_position,\n",
    "                                    starting_left_hip_position)\n",
    "starting_right_leg_state = LegState(Side.RIGHT, starting_right_foot_hold, starting_right_knee_position,\n",
    "                                    starting_right_hip_position)\n",
    "starting_left_arm_state = ArmState(Side.LEFT, starting_left_hand_hold, starting_left_shoulder_position)\n",
    "starting_right_arm_state = ArmState(Side.RIGHT, starting_right_hand_hold, starting_right_shoulder_position)\n",
    "starting_human_state = HumanState(starting_left_leg_state, starting_right_leg_state, starting_left_arm_state,\n",
    "                                    starting_right_arm_state)\n",
    "\n",
    "# Define body physique constants.\n",
    "set_leg_spread(np.float_(np.float64(2.0943951)))\n",
    "set_arm_length(np.float_(np.float64(3)))\n",
    "set_leg_length(starting_right_foot_hold, starting_right_knee_position, starting_right_hip_position)"
   ]
  },
  {
   "cell_type": "markdown",
   "metadata": {},
   "source": [
    "### Wall 1 (hard)"
   ]
  },
  {
   "cell_type": "code",
   "execution_count": 4,
   "metadata": {},
   "outputs": [],
   "source": [
    "# Define wall holds and goal state positions.\n",
    "hard_wall_holds: list[Hold] = [\n",
    "    Hold(x,y) for x in range(1, 10, 3) for y in range(1, 20, 3)\n",
    "    ]\n",
    "hard_wall_holds.append(Hold(3, 1))\n",
    "hard_wall_holds.append(Hold(5, 1))\n",
    "hard_wall_holds.append(Hold(5, 7))\n",
    "hard_wall_holds.append(Hold(9, 19))\n",
    "\n",
    "goal_state_positions = [np.array([9,19]), np.array([9,19])]"
   ]
  },
  {
   "cell_type": "code",
   "execution_count": 6,
   "metadata": {},
   "outputs": [],
   "source": [
    "path:list[Search_Node] | None = a_star_algorithm(starting_human_state, goal_state_positions, hard_wall_holds)"
   ]
  },
  {
   "cell_type": "code",
   "execution_count": null,
   "metadata": {},
   "outputs": [
    {
     "name": "stdout",
     "output_type": "stream",
     "text": [
      "Path has been saved to results\\sameclimber_mediumwall_climber_path.json.\n"
     ]
    }
   ],
   "source": [
    "create_json(\"sameclimber_hardwall\", path)"
   ]
  },
  {
   "cell_type": "code",
   "execution_count": 7,
   "metadata": {},
   "outputs": [
    {
     "name": "stdout",
     "output_type": "stream",
     "text": [
      "Path has been saved to results\\sameclimber2_hardwall_climber_path.json.\n"
     ]
    }
   ],
   "source": [
    "create_json(\"sameclimber2_hardwall\", path)"
   ]
  },
  {
   "cell_type": "markdown",
   "metadata": {},
   "source": [
    "### Wall 2 (medium)"
   ]
  },
  {
   "cell_type": "code",
   "execution_count": 8,
   "metadata": {},
   "outputs": [],
   "source": [
    "# Define wall holds and goal state positions.\n",
    "medium_wall_holds: list[Hold] = [\n",
    "    Hold(x,y) for x in range(1, 10, 2) for y in range(1, 20, 3)\n",
    "    ]\n",
    "medium_wall_holds.append(Hold(3, 1))\n",
    "medium_wall_holds.append(Hold(5, 1))\n",
    "medium_wall_holds.append(Hold(5, 7))\n",
    "medium_wall_holds.append(Hold(9, 19))\n",
    "\n",
    "goal_state_positions = [np.array([9,19]), np.array([9,19])]"
   ]
  },
  {
   "cell_type": "code",
   "execution_count": 9,
   "metadata": {},
   "outputs": [],
   "source": [
    "path:list[Search_Node] | None = a_star_algorithm(starting_human_state, goal_state_positions, medium_wall_holds)"
   ]
  },
  {
   "cell_type": "code",
   "execution_count": 59,
   "metadata": {},
   "outputs": [
    {
     "name": "stdout",
     "output_type": "stream",
     "text": [
      "Path has been saved to results\\sameclimber_mediumwall_climber_path.json.\n"
     ]
    }
   ],
   "source": [
    "create_json(\"sameclimber_mediumwall\", path)"
   ]
  },
  {
   "cell_type": "code",
   "execution_count": 10,
   "metadata": {},
   "outputs": [
    {
     "name": "stdout",
     "output_type": "stream",
     "text": [
      "Path has been saved to results\\sameclimber2_mediumwall_climber_path.json.\n"
     ]
    }
   ],
   "source": [
    "create_json(\"sameclimber2_mediumwall\", path)"
   ]
  },
  {
   "cell_type": "markdown",
   "metadata": {},
   "source": [
    "### Smaller wall"
   ]
  },
  {
   "cell_type": "code",
   "execution_count": 11,
   "metadata": {},
   "outputs": [],
   "source": [
    "# Define wall holds and goal state positions.\n",
    "small_wall_holds: list[Hold] = [\n",
    "    Hold(x,y) for x in range(1, 8, 2) for y in range(1, 14, 2)\n",
    "    ]\n",
    "\n",
    "goal_state_positions = [np.array([7,13]), np.array([7,13])]"
   ]
  },
  {
   "cell_type": "code",
   "execution_count": 13,
   "metadata": {},
   "outputs": [],
   "source": [
    "path:list[Search_Node] | None = a_star_algorithm(starting_human_state, goal_state_positions, small_wall_holds)"
   ]
  },
  {
   "cell_type": "code",
   "execution_count": 45,
   "metadata": {},
   "outputs": [
    {
     "name": "stdout",
     "output_type": "stream",
     "text": [
      "Path has been saved to results\\sameclimber_smallwall_climber_path.json.\n"
     ]
    }
   ],
   "source": [
    "create_json(\"sameclimber_smallwall\", path)"
   ]
  },
  {
   "cell_type": "code",
   "execution_count": 14,
   "metadata": {},
   "outputs": [
    {
     "name": "stdout",
     "output_type": "stream",
     "text": [
      "Path has been saved to results\\sameclimber2_smallwall_climber_path.json.\n"
     ]
    }
   ],
   "source": [
    "create_json(\"sameclimber2_smallwall\", path)"
   ]
  },
  {
   "cell_type": "markdown",
   "metadata": {},
   "source": [
    "### Big wall"
   ]
  },
  {
   "cell_type": "code",
   "execution_count": 15,
   "metadata": {},
   "outputs": [],
   "source": [
    "# Define wall holds and goal state positions.\n",
    "big_wall_holds: list[Hold] = [\n",
    "    Hold(x,y) for x in range(1, 21, 3) for y in range(1, 26, 3)\n",
    "    ]\n",
    "big_wall_holds.append(Hold(3, 1))\n",
    "big_wall_holds.append(Hold(5, 1))\n",
    "big_wall_holds.append(Hold(5, 7))\n",
    "\n",
    "goal_state_positions = [np.array([19,25]), np.array([19,25])]"
   ]
  },
  {
   "cell_type": "code",
   "execution_count": 16,
   "metadata": {},
   "outputs": [],
   "source": [
    "path:list[Search_Node] | None = a_star_algorithm(starting_human_state, goal_state_positions, big_wall_holds)"
   ]
  },
  {
   "cell_type": "code",
   "execution_count": 95,
   "metadata": {},
   "outputs": [
    {
     "name": "stdout",
     "output_type": "stream",
     "text": [
      "Path has been saved to results\\sameclimber_bigwall_climber_path.json.\n"
     ]
    }
   ],
   "source": [
    "create_json(\"sameclimber_bigwall\", path)"
   ]
  },
  {
   "cell_type": "code",
   "execution_count": 17,
   "metadata": {},
   "outputs": [
    {
     "name": "stdout",
     "output_type": "stream",
     "text": [
      "Path has been saved to results\\sameclimber2_bigwall_climber_path.json.\n"
     ]
    }
   ],
   "source": [
    "create_json(\"sameclimber2_bigwall\", path)"
   ]
  },
  {
   "cell_type": "markdown",
   "metadata": {},
   "source": [
    "### compare"
   ]
  },
  {
   "cell_type": "code",
   "execution_count": 18,
   "metadata": {},
   "outputs": [],
   "source": [
    "def create_row(experiment_name, name, x_size, y_size, holds):\n",
    "    file_path = f\"results\\{experiment_name}_climber_path.json\"\n",
    "    with open(file_path, \"r\") as file:\n",
    "        path = json.load(file)\n",
    "    new_row = {\n",
    "        'name': name,\n",
    "        'steps': len(path),\n",
    "        'size': f\"{x_size}x{y_size}\",\n",
    "        'number of holds': len(holds),\n",
    "        'holds': sorted([(hold.x, hold.y) for hold in holds])\n",
    "    }\n",
    "    return pd.DataFrame([new_row])\n",
    "    "
   ]
  },
  {
   "cell_type": "markdown",
   "metadata": {},
   "source": [
    "#### Climber 1"
   ]
  },
  {
   "cell_type": "code",
   "execution_count": 68,
   "metadata": {},
   "outputs": [],
   "source": [
    "df = pd.DataFrame(columns=['name', 'steps', 'size', 'number of holds', 'holds'])\n",
    "df = pd.concat([df, create_row(\"2climbers_samewall\", \"easy wall\", 10, 20, base_wall_holds)], ignore_index=True)\n",
    "df = pd.concat([df, create_row(\"sameclimber_mediumwall\", \"medium wall\", 10, 20, medium_wall_holds)], ignore_index=True)\n",
    "df = pd.concat([df, create_row(\"sameclimber_hardwall\", \"hard wall\", 10, 20, hard_wall_holds)], ignore_index=True)\n",
    "df = pd.concat([df, create_row(\"sameclimber_smallwall\", \"small wall\", 8, 14, small_wall_holds)], ignore_index=True)\n",
    "df = pd.concat([df, create_row(\"sameclimber_bigwall\", \"big wall\", 20, 25, big_wall_holds)], ignore_index=True)"
   ]
  },
  {
   "cell_type": "code",
   "execution_count": 70,
   "metadata": {},
   "outputs": [
    {
     "data": {
      "text/html": [
       "<div>\n",
       "<style scoped>\n",
       "    .dataframe tbody tr th:only-of-type {\n",
       "        vertical-align: middle;\n",
       "    }\n",
       "\n",
       "    .dataframe tbody tr th {\n",
       "        vertical-align: top;\n",
       "    }\n",
       "\n",
       "    .dataframe thead th {\n",
       "        text-align: right;\n",
       "    }\n",
       "</style>\n",
       "<table border=\"1\" class=\"dataframe\">\n",
       "  <thead>\n",
       "    <tr style=\"text-align: right;\">\n",
       "      <th></th>\n",
       "      <th>name</th>\n",
       "      <th>steps</th>\n",
       "      <th>size</th>\n",
       "      <th>number of holds</th>\n",
       "      <th>holds</th>\n",
       "    </tr>\n",
       "  </thead>\n",
       "  <tbody>\n",
       "    <tr>\n",
       "      <th>0</th>\n",
       "      <td>easy wall</td>\n",
       "      <td>17</td>\n",
       "      <td>10x20</td>\n",
       "      <td>50</td>\n",
       "      <td>[(1, 1), (1, 3), (1, 5), (1, 7), (1, 9), (1, 11), (1, 13), (1, 15), (1, 17), (1, 19), (3, 1), (3, 3), (3, 5), (3, 7), (3, 9), (3, 11), (3, 13), (3, 15), (3, 17), (3, 19), (5, 1), (5, 3), (5, 5), (5, 7), (5, 9), (5, 11), (5, 13), (5, 15), (5, 17), (5, 19), (7, 1), (7, 3), (7, 5), (7, 7), (7, 9), (7, 11), (7, 13), (7, 15), (7, 17), (7, 19), (9, 1), (9, 3), (9, 5), (9, 7), (9, 9), (9, 11), (9, 13), (9, 15), (9, 17), (9, 19)]</td>\n",
       "    </tr>\n",
       "    <tr>\n",
       "      <th>1</th>\n",
       "      <td>medium wall</td>\n",
       "      <td>19</td>\n",
       "      <td>10x20</td>\n",
       "      <td>39</td>\n",
       "      <td>[(1, 1), (1, 4), (1, 7), (1, 10), (1, 13), (1, 16), (1, 19), (3, 1), (3, 1), (3, 4), (3, 7), (3, 10), (3, 13), (3, 16), (3, 19), (5, 1), (5, 1), (5, 4), (5, 7), (5, 7), (5, 10), (5, 13), (5, 16), (5, 19), (7, 1), (7, 4), (7, 7), (7, 10), (7, 13), (7, 16), (7, 19), (9, 1), (9, 4), (9, 7), (9, 10), (9, 13), (9, 16), (9, 19), (9, 19)]</td>\n",
       "    </tr>\n",
       "    <tr>\n",
       "      <th>2</th>\n",
       "      <td>hard wall</td>\n",
       "      <td>22</td>\n",
       "      <td>10x20</td>\n",
       "      <td>25</td>\n",
       "      <td>[(1, 1), (1, 4), (1, 7), (1, 10), (1, 13), (1, 16), (1, 19), (3, 1), (4, 1), (4, 4), (4, 7), (4, 10), (4, 13), (4, 16), (4, 19), (5, 1), (5, 7), (7, 1), (7, 4), (7, 7), (7, 10), (7, 13), (7, 16), (7, 19), (9, 19)]</td>\n",
       "    </tr>\n",
       "    <tr>\n",
       "      <th>3</th>\n",
       "      <td>small wall</td>\n",
       "      <td>10</td>\n",
       "      <td>8x14</td>\n",
       "      <td>28</td>\n",
       "      <td>[(1, 1), (1, 3), (1, 5), (1, 7), (1, 9), (1, 11), (1, 13), (3, 1), (3, 3), (3, 5), (3, 7), (3, 9), (3, 11), (3, 13), (5, 1), (5, 3), (5, 5), (5, 7), (5, 9), (5, 11), (5, 13), (7, 1), (7, 3), (7, 5), (7, 7), (7, 9), (7, 11), (7, 13)]</td>\n",
       "    </tr>\n",
       "    <tr>\n",
       "      <th>4</th>\n",
       "      <td>big wall</td>\n",
       "      <td>27</td>\n",
       "      <td>20x25</td>\n",
       "      <td>66</td>\n",
       "      <td>[(1, 1), (1, 4), (1, 7), (1, 10), (1, 13), (1, 16), (1, 19), (1, 22), (1, 25), (3, 1), (4, 1), (4, 4), (4, 7), (4, 10), (4, 13), (4, 16), (4, 19), (4, 22), (4, 25), (5, 1), (5, 7), (7, 1), (7, 4), (7, 7), (7, 10), (7, 13), (7, 16), (7, 19), (7, 22), (7, 25), (10, 1), (10, 4), (10, 7), (10, 10), (10, 13), (10, 16), (10, 19), (10, 22), (10, 25), (13, 1), (13, 4), (13, 7), (13, 10), (13, 13), (13, 16), (13, 19), (13, 22), (13, 25), (16, 1), (16, 4), (16, 7), (16, 10), (16, 13), (16, 16), (16, 19), (16, 22), (16, 25), (19, 1), (19, 4), (19, 7), (19, 10), (19, 13), (19, 16), (19, 19), (19, 22), (19, 25)]</td>\n",
       "    </tr>\n",
       "  </tbody>\n",
       "</table>\n",
       "</div>"
      ],
      "text/plain": [
       "          name steps   size number of holds  \\\n",
       "0    easy wall    17  10x20              50   \n",
       "1  medium wall    19  10x20              39   \n",
       "2    hard wall    22  10x20              25   \n",
       "3   small wall    10   8x14              28   \n",
       "4     big wall    27  20x25              66   \n",
       "\n",
       "                                                                                                                                                                                                                                                                                                                                                                                                                                                                                                                                                                                                                            holds  \n",
       "0                                                                                                                                                                                       [(1, 1), (1, 3), (1, 5), (1, 7), (1, 9), (1, 11), (1, 13), (1, 15), (1, 17), (1, 19), (3, 1), (3, 3), (3, 5), (3, 7), (3, 9), (3, 11), (3, 13), (3, 15), (3, 17), (3, 19), (5, 1), (5, 3), (5, 5), (5, 7), (5, 9), (5, 11), (5, 13), (5, 15), (5, 17), (5, 19), (7, 1), (7, 3), (7, 5), (7, 7), (7, 9), (7, 11), (7, 13), (7, 15), (7, 17), (7, 19), (9, 1), (9, 3), (9, 5), (9, 7), (9, 9), (9, 11), (9, 13), (9, 15), (9, 17), (9, 19)]  \n",
       "1                                                                                                                                                                                                                                                                                   [(1, 1), (1, 4), (1, 7), (1, 10), (1, 13), (1, 16), (1, 19), (3, 1), (3, 1), (3, 4), (3, 7), (3, 10), (3, 13), (3, 16), (3, 19), (5, 1), (5, 1), (5, 4), (5, 7), (5, 7), (5, 10), (5, 13), (5, 16), (5, 19), (7, 1), (7, 4), (7, 7), (7, 10), (7, 13), (7, 16), (7, 19), (9, 1), (9, 4), (9, 7), (9, 10), (9, 13), (9, 16), (9, 19), (9, 19)]  \n",
       "2                                                                                                                                                                                                                                                                                                                                                                                                           [(1, 1), (1, 4), (1, 7), (1, 10), (1, 13), (1, 16), (1, 19), (3, 1), (4, 1), (4, 4), (4, 7), (4, 10), (4, 13), (4, 16), (4, 19), (5, 1), (5, 7), (7, 1), (7, 4), (7, 7), (7, 10), (7, 13), (7, 16), (7, 19), (9, 19)]  \n",
       "3                                                                                                                                                                                                                                                                                                                                                                                        [(1, 1), (1, 3), (1, 5), (1, 7), (1, 9), (1, 11), (1, 13), (3, 1), (3, 3), (3, 5), (3, 7), (3, 9), (3, 11), (3, 13), (5, 1), (5, 3), (5, 5), (5, 7), (5, 9), (5, 11), (5, 13), (7, 1), (7, 3), (7, 5), (7, 7), (7, 9), (7, 11), (7, 13)]  \n",
       "4  [(1, 1), (1, 4), (1, 7), (1, 10), (1, 13), (1, 16), (1, 19), (1, 22), (1, 25), (3, 1), (4, 1), (4, 4), (4, 7), (4, 10), (4, 13), (4, 16), (4, 19), (4, 22), (4, 25), (5, 1), (5, 7), (7, 1), (7, 4), (7, 7), (7, 10), (7, 13), (7, 16), (7, 19), (7, 22), (7, 25), (10, 1), (10, 4), (10, 7), (10, 10), (10, 13), (10, 16), (10, 19), (10, 22), (10, 25), (13, 1), (13, 4), (13, 7), (13, 10), (13, 13), (13, 16), (13, 19), (13, 22), (13, 25), (16, 1), (16, 4), (16, 7), (16, 10), (16, 13), (16, 16), (16, 19), (16, 22), (16, 25), (19, 1), (19, 4), (19, 7), (19, 10), (19, 13), (19, 16), (19, 19), (19, 22), (19, 25)]  "
      ]
     },
     "execution_count": 70,
     "metadata": {},
     "output_type": "execute_result"
    }
   ],
   "source": [
    "# max display width \n",
    "pd.set_option('display.max_colwidth', None)\n",
    "df"
   ]
  },
  {
   "cell_type": "markdown",
   "metadata": {},
   "source": [
    "#### Climber 2"
   ]
  },
  {
   "cell_type": "code",
   "execution_count": 23,
   "metadata": {},
   "outputs": [
    {
     "data": {
      "text/html": [
       "<div>\n",
       "<style scoped>\n",
       "    .dataframe tbody tr th:only-of-type {\n",
       "        vertical-align: middle;\n",
       "    }\n",
       "\n",
       "    .dataframe tbody tr th {\n",
       "        vertical-align: top;\n",
       "    }\n",
       "\n",
       "    .dataframe thead th {\n",
       "        text-align: right;\n",
       "    }\n",
       "</style>\n",
       "<table border=\"1\" class=\"dataframe\">\n",
       "  <thead>\n",
       "    <tr style=\"text-align: right;\">\n",
       "      <th></th>\n",
       "      <th>name</th>\n",
       "      <th>steps</th>\n",
       "      <th>size</th>\n",
       "      <th>number of holds</th>\n",
       "      <th>holds</th>\n",
       "    </tr>\n",
       "  </thead>\n",
       "  <tbody>\n",
       "    <tr>\n",
       "      <th>0</th>\n",
       "      <td>easy wall</td>\n",
       "      <td>16</td>\n",
       "      <td>10x20</td>\n",
       "      <td>50</td>\n",
       "      <td>[(1, 1), (1, 3), (1, 5), (1, 7), (1, 9), (1, 11), (1, 13), (1, 15), (1, 17), (1, 19), (3, 1), (3, 3), (3, 5), (3, 7), (3, 9), (3, 11), (3, 13), (3, 15), (3, 17), (3, 19), (5, 1), (5, 3), (5, 5), (5, 7), (5, 9), (5, 11), (5, 13), (5, 15), (5, 17), (5, 19), (7, 1), (7, 3), (7, 5), (7, 7), (7, 9), (7, 11), (7, 13), (7, 15), (7, 17), (7, 19), (9, 1), (9, 3), (9, 5), (9, 7), (9, 9), (9, 11), (9, 13), (9, 15), (9, 17), (9, 19)]</td>\n",
       "    </tr>\n",
       "    <tr>\n",
       "      <th>1</th>\n",
       "      <td>medium wall</td>\n",
       "      <td>17</td>\n",
       "      <td>10x20</td>\n",
       "      <td>39</td>\n",
       "      <td>[(1, 1), (1, 4), (1, 7), (1, 10), (1, 13), (1, 16), (1, 19), (3, 1), (3, 1), (3, 4), (3, 7), (3, 10), (3, 13), (3, 16), (3, 19), (5, 1), (5, 1), (5, 4), (5, 7), (5, 7), (5, 10), (5, 13), (5, 16), (5, 19), (7, 1), (7, 4), (7, 7), (7, 10), (7, 13), (7, 16), (7, 19), (9, 1), (9, 4), (9, 7), (9, 10), (9, 13), (9, 16), (9, 19), (9, 19)]</td>\n",
       "    </tr>\n",
       "    <tr>\n",
       "      <th>2</th>\n",
       "      <td>hard wall</td>\n",
       "      <td>19</td>\n",
       "      <td>10x20</td>\n",
       "      <td>25</td>\n",
       "      <td>[(1, 1), (1, 4), (1, 7), (1, 10), (1, 13), (1, 16), (1, 19), (3, 1), (4, 1), (4, 4), (4, 7), (4, 10), (4, 13), (4, 16), (4, 19), (5, 1), (5, 7), (7, 1), (7, 4), (7, 7), (7, 10), (7, 13), (7, 16), (7, 19), (9, 19)]</td>\n",
       "    </tr>\n",
       "    <tr>\n",
       "      <th>3</th>\n",
       "      <td>small wall</td>\n",
       "      <td>9</td>\n",
       "      <td>8x14</td>\n",
       "      <td>28</td>\n",
       "      <td>[(1, 1), (1, 3), (1, 5), (1, 7), (1, 9), (1, 11), (1, 13), (3, 1), (3, 3), (3, 5), (3, 7), (3, 9), (3, 11), (3, 13), (5, 1), (5, 3), (5, 5), (5, 7), (5, 9), (5, 11), (5, 13), (7, 1), (7, 3), (7, 5), (7, 7), (7, 9), (7, 11), (7, 13)]</td>\n",
       "    </tr>\n",
       "    <tr>\n",
       "      <th>4</th>\n",
       "      <td>big wall</td>\n",
       "      <td>25</td>\n",
       "      <td>20x25</td>\n",
       "      <td>66</td>\n",
       "      <td>[(1, 1), (1, 4), (1, 7), (1, 10), (1, 13), (1, 16), (1, 19), (1, 22), (1, 25), (3, 1), (4, 1), (4, 4), (4, 7), (4, 10), (4, 13), (4, 16), (4, 19), (4, 22), (4, 25), (5, 1), (5, 7), (7, 1), (7, 4), (7, 7), (7, 10), (7, 13), (7, 16), (7, 19), (7, 22), (7, 25), (10, 1), (10, 4), (10, 7), (10, 10), (10, 13), (10, 16), (10, 19), (10, 22), (10, 25), (13, 1), (13, 4), (13, 7), (13, 10), (13, 13), (13, 16), (13, 19), (13, 22), (13, 25), (16, 1), (16, 4), (16, 7), (16, 10), (16, 13), (16, 16), (16, 19), (16, 22), (16, 25), (19, 1), (19, 4), (19, 7), (19, 10), (19, 13), (19, 16), (19, 19), (19, 22), (19, 25)]</td>\n",
       "    </tr>\n",
       "  </tbody>\n",
       "</table>\n",
       "</div>"
      ],
      "text/plain": [
       "          name steps   size number of holds  \\\n",
       "0    easy wall    16  10x20              50   \n",
       "1  medium wall    17  10x20              39   \n",
       "2    hard wall    19  10x20              25   \n",
       "3   small wall     9   8x14              28   \n",
       "4     big wall    25  20x25              66   \n",
       "\n",
       "                                                                                                                                                                                                                                                                                                                                                                                                                                                                                                                                                                                                                            holds  \n",
       "0                                                                                                                                                                                       [(1, 1), (1, 3), (1, 5), (1, 7), (1, 9), (1, 11), (1, 13), (1, 15), (1, 17), (1, 19), (3, 1), (3, 3), (3, 5), (3, 7), (3, 9), (3, 11), (3, 13), (3, 15), (3, 17), (3, 19), (5, 1), (5, 3), (5, 5), (5, 7), (5, 9), (5, 11), (5, 13), (5, 15), (5, 17), (5, 19), (7, 1), (7, 3), (7, 5), (7, 7), (7, 9), (7, 11), (7, 13), (7, 15), (7, 17), (7, 19), (9, 1), (9, 3), (9, 5), (9, 7), (9, 9), (9, 11), (9, 13), (9, 15), (9, 17), (9, 19)]  \n",
       "1                                                                                                                                                                                                                                                                                   [(1, 1), (1, 4), (1, 7), (1, 10), (1, 13), (1, 16), (1, 19), (3, 1), (3, 1), (3, 4), (3, 7), (3, 10), (3, 13), (3, 16), (3, 19), (5, 1), (5, 1), (5, 4), (5, 7), (5, 7), (5, 10), (5, 13), (5, 16), (5, 19), (7, 1), (7, 4), (7, 7), (7, 10), (7, 13), (7, 16), (7, 19), (9, 1), (9, 4), (9, 7), (9, 10), (9, 13), (9, 16), (9, 19), (9, 19)]  \n",
       "2                                                                                                                                                                                                                                                                                                                                                                                                           [(1, 1), (1, 4), (1, 7), (1, 10), (1, 13), (1, 16), (1, 19), (3, 1), (4, 1), (4, 4), (4, 7), (4, 10), (4, 13), (4, 16), (4, 19), (5, 1), (5, 7), (7, 1), (7, 4), (7, 7), (7, 10), (7, 13), (7, 16), (7, 19), (9, 19)]  \n",
       "3                                                                                                                                                                                                                                                                                                                                                                                        [(1, 1), (1, 3), (1, 5), (1, 7), (1, 9), (1, 11), (1, 13), (3, 1), (3, 3), (3, 5), (3, 7), (3, 9), (3, 11), (3, 13), (5, 1), (5, 3), (5, 5), (5, 7), (5, 9), (5, 11), (5, 13), (7, 1), (7, 3), (7, 5), (7, 7), (7, 9), (7, 11), (7, 13)]  \n",
       "4  [(1, 1), (1, 4), (1, 7), (1, 10), (1, 13), (1, 16), (1, 19), (1, 22), (1, 25), (3, 1), (4, 1), (4, 4), (4, 7), (4, 10), (4, 13), (4, 16), (4, 19), (4, 22), (4, 25), (5, 1), (5, 7), (7, 1), (7, 4), (7, 7), (7, 10), (7, 13), (7, 16), (7, 19), (7, 22), (7, 25), (10, 1), (10, 4), (10, 7), (10, 10), (10, 13), (10, 16), (10, 19), (10, 22), (10, 25), (13, 1), (13, 4), (13, 7), (13, 10), (13, 13), (13, 16), (13, 19), (13, 22), (13, 25), (16, 1), (16, 4), (16, 7), (16, 10), (16, 13), (16, 16), (16, 19), (16, 22), (16, 25), (19, 1), (19, 4), (19, 7), (19, 10), (19, 13), (19, 16), (19, 19), (19, 22), (19, 25)]  "
      ]
     },
     "execution_count": 23,
     "metadata": {},
     "output_type": "execute_result"
    }
   ],
   "source": [
    "# max display width \n",
    "pd.set_option('display.max_colwidth', None)\n",
    "df = pd.DataFrame(columns=['name', 'steps', 'size', 'number of holds', 'holds'])\n",
    "df = pd.concat([df, create_row(\"2climbers_samewall(taller)\", \"easy wall\", 10, 20, base_wall_holds)], ignore_index=True)\n",
    "df = pd.concat([df, create_row(\"sameclimber2_mediumwall\", \"medium wall\", 10, 20, medium_wall_holds)], ignore_index=True)\n",
    "df = pd.concat([df, create_row(\"sameclimber2_hardwall\", \"hard wall\", 10, 20, hard_wall_holds)], ignore_index=True)\n",
    "df = pd.concat([df, create_row(\"sameclimber2_smallwall\", \"small wall\", 8, 14, small_wall_holds)], ignore_index=True)\n",
    "df = pd.concat([df, create_row(\"sameclimber2_bigwall\", \"big wall\", 20, 25, big_wall_holds)], ignore_index=True)\n",
    "df"
   ]
  },
  {
   "cell_type": "markdown",
   "metadata": {},
   "source": [
    "# Impossible Walls"
   ]
  },
  {
   "cell_type": "code",
   "execution_count": 7,
   "metadata": {},
   "outputs": [],
   "source": [
    "# Define wall holds and goal state positions.\n",
    "wall_holds: list[Hold] = [\n",
    "    Hold(x,y) for x in range(1, 11, 2) for y in range(1, 21, 9)\n",
    "    ]\n",
    "\n",
    "wall_holds.append(Hold(1, 7))\n",
    "wall_holds.append(Hold(5, 7))\n",
    "\n",
    "goal_state_positions = [np.array([9,19]), np.array([9,19])]"
   ]
  },
  {
   "cell_type": "code",
   "execution_count": 9,
   "metadata": {},
   "outputs": [],
   "source": [
    "path:list[Search_Node] | None = a_star_algorithm(starting_human_state, goal_state_positions, wall_holds)"
   ]
  },
  {
   "cell_type": "code",
   "execution_count": 10,
   "metadata": {},
   "outputs": [
    {
     "name": "stdout",
     "output_type": "stream",
     "text": [
      "No path found.\n"
     ]
    }
   ],
   "source": [
    "if path is None:\n",
    "    print(\"No path found.\")"
   ]
  },
  {
   "cell_type": "markdown",
   "metadata": {},
   "source": [
    "# Print the walls"
   ]
  },
  {
   "cell_type": "markdown",
   "metadata": {},
   "source": [
    "P is starting point, H is hold, G is goal"
   ]
  },
  {
   "cell_type": "code",
   "execution_count": 64,
   "metadata": {},
   "outputs": [],
   "source": [
    "def print_wall(x_size, y_size, holds_locations, x_goal, y_goal):\n",
    "    wall_array = [['.' for _ in range(x_size)] for _ in range(y_size)]\n",
    "    for pos in holds_locations:\n",
    "        wall_array[pos[1]][pos[0]] = 'H'\n",
    "\n",
    "    wall_array[7][1] = 'P'\n",
    "    wall_array[1][3] = 'P'\n",
    "    wall_array[1][5] = 'P'\n",
    "    wall_array[7][5] = 'P'\n",
    "\n",
    "    wall_array[y_goal][x_goal] = 'G'\n",
    "    i = y_size - 1\n",
    "    for y in range(y_size):\n",
    "        print(f'{wall_array[y_size - y - 1]}     {i}')\n",
    "        i -= 1\n",
    "\n",
    "    to_print = []\n",
    "    for x in range(x_size):\n",
    "        to_print.append(str(x))\n",
    "    print(to_print)\n"
   ]
  },
  {
   "cell_type": "markdown",
   "metadata": {},
   "source": [
    "## Base Wall"
   ]
  },
  {
   "cell_type": "code",
   "execution_count": 43,
   "metadata": {},
   "outputs": [],
   "source": [
    "x_size = 11\n",
    "y_size = 21\n",
    "goal_x = 9\n",
    "goal_y = 19"
   ]
  },
  {
   "cell_type": "markdown",
   "metadata": {},
   "source": [
    "### Easy"
   ]
  },
  {
   "cell_type": "code",
   "execution_count": 52,
   "metadata": {},
   "outputs": [
    {
     "name": "stdout",
     "output_type": "stream",
     "text": [
      "['.', '.', '.', '.', '.', '.', '.', '.', '.', '.', '.']     20\n",
      "['.', 'H', '.', 'H', '.', 'H', '.', 'H', '.', 'G', '.']     19\n",
      "['.', '.', '.', '.', '.', '.', '.', '.', '.', '.', '.']     18\n",
      "['.', 'H', '.', 'H', '.', 'H', '.', 'H', '.', 'H', '.']     17\n",
      "['.', '.', '.', '.', '.', '.', '.', '.', '.', '.', '.']     16\n",
      "['.', 'H', '.', 'H', '.', 'H', '.', 'H', '.', 'H', '.']     15\n",
      "['.', '.', '.', '.', '.', '.', '.', '.', '.', '.', '.']     14\n",
      "['.', 'H', '.', 'H', '.', 'H', '.', 'H', '.', 'H', '.']     13\n",
      "['.', '.', '.', '.', '.', '.', '.', '.', '.', '.', '.']     12\n",
      "['.', 'H', '.', 'H', '.', 'H', '.', 'H', '.', 'H', '.']     11\n",
      "['.', '.', '.', '.', '.', '.', '.', '.', '.', '.', '.']     10\n",
      "['.', 'H', '.', 'H', '.', 'H', '.', 'H', '.', 'H', '.']     9\n",
      "['.', '.', '.', '.', '.', '.', '.', '.', '.', '.', '.']     8\n",
      "['.', 'P', '.', 'H', '.', 'P', '.', 'H', '.', 'H', '.']     7\n",
      "['.', '.', '.', '.', '.', '.', '.', '.', '.', '.', '.']     6\n",
      "['.', 'H', '.', 'H', '.', 'H', '.', 'H', '.', 'H', '.']     5\n",
      "['.', '.', '.', '.', '.', '.', '.', '.', '.', '.', '.']     4\n",
      "['.', 'H', '.', 'H', '.', 'H', '.', 'H', '.', 'H', '.']     3\n",
      "['.', '.', '.', '.', '.', '.', '.', '.', '.', '.', '.']     2\n",
      "['.', 'H', '.', 'P', '.', 'P', '.', 'H', '.', 'H', '.']     1\n",
      "['.', '.', '.', '.', '.', '.', '.', '.', '.', '.', '.']     0\n",
      "['0', '1', '2', '3', '4', '5', '6', '7', '8', '9', '10']\n"
     ]
    }
   ],
   "source": [
    "print_wall(x_size, y_size, [(hold.x, hold.y) for hold in base_wall_holds], goal_x, goal_y)"
   ]
  },
  {
   "cell_type": "markdown",
   "metadata": {},
   "source": [
    "### Medium"
   ]
  },
  {
   "cell_type": "code",
   "execution_count": 55,
   "metadata": {},
   "outputs": [
    {
     "name": "stdout",
     "output_type": "stream",
     "text": [
      "['.', '.', '.', '.', '.', '.', '.', '.', '.', '.', '.']     20\n",
      "['.', 'H', '.', 'H', '.', 'H', '.', 'H', '.', 'G', '.']     19\n",
      "['.', '.', '.', '.', '.', '.', '.', '.', '.', '.', '.']     18\n",
      "['.', '.', '.', '.', '.', '.', '.', '.', '.', '.', '.']     17\n",
      "['.', 'H', '.', 'H', '.', 'H', '.', 'H', '.', 'H', '.']     16\n",
      "['.', '.', '.', '.', '.', '.', '.', '.', '.', '.', '.']     15\n",
      "['.', '.', '.', '.', '.', '.', '.', '.', '.', '.', '.']     14\n",
      "['.', 'H', '.', 'H', '.', 'H', '.', 'H', '.', 'H', '.']     13\n",
      "['.', '.', '.', '.', '.', '.', '.', '.', '.', '.', '.']     12\n",
      "['.', '.', '.', '.', '.', '.', '.', '.', '.', '.', '.']     11\n",
      "['.', 'H', '.', 'H', '.', 'H', '.', 'H', '.', 'H', '.']     10\n",
      "['.', '.', '.', '.', '.', '.', '.', '.', '.', '.', '.']     9\n",
      "['.', '.', '.', '.', '.', '.', '.', '.', '.', '.', '.']     8\n",
      "['.', 'P', '.', 'H', '.', 'P', '.', 'H', '.', 'H', '.']     7\n",
      "['.', '.', '.', '.', '.', '.', '.', '.', '.', '.', '.']     6\n",
      "['.', '.', '.', '.', '.', '.', '.', '.', '.', '.', '.']     5\n",
      "['.', 'H', '.', 'H', '.', 'H', '.', 'H', '.', 'H', '.']     4\n",
      "['.', '.', '.', '.', '.', '.', '.', '.', '.', '.', '.']     3\n",
      "['.', '.', '.', '.', '.', '.', '.', '.', '.', '.', '.']     2\n",
      "['.', 'H', '.', 'P', '.', 'P', '.', 'H', '.', 'H', '.']     1\n",
      "['.', '.', '.', '.', '.', '.', '.', '.', '.', '.', '.']     0\n",
      "['0', '1', '2', '3', '4', '5', '6', '7', '8', '9', '10']\n"
     ]
    }
   ],
   "source": [
    "print_wall(x_size, y_size, [(hold.x, hold.y) for hold in medium_wall_holds], goal_x, goal_y)"
   ]
  },
  {
   "cell_type": "markdown",
   "metadata": {},
   "source": [
    "### Hard"
   ]
  },
  {
   "cell_type": "code",
   "execution_count": 56,
   "metadata": {},
   "outputs": [
    {
     "name": "stdout",
     "output_type": "stream",
     "text": [
      "['.', '.', '.', '.', '.', '.', '.', '.', '.', '.', '.']     20\n",
      "['.', 'H', '.', '.', 'H', '.', '.', 'H', '.', 'G', '.']     19\n",
      "['.', '.', '.', '.', '.', '.', '.', '.', '.', '.', '.']     18\n",
      "['.', '.', '.', '.', '.', '.', '.', '.', '.', '.', '.']     17\n",
      "['.', 'H', '.', '.', 'H', '.', '.', 'H', '.', '.', '.']     16\n",
      "['.', '.', '.', '.', '.', '.', '.', '.', '.', '.', '.']     15\n",
      "['.', '.', '.', '.', '.', '.', '.', '.', '.', '.', '.']     14\n",
      "['.', 'H', '.', '.', 'H', '.', '.', 'H', '.', '.', '.']     13\n",
      "['.', '.', '.', '.', '.', '.', '.', '.', '.', '.', '.']     12\n",
      "['.', '.', '.', '.', '.', '.', '.', '.', '.', '.', '.']     11\n",
      "['.', 'H', '.', '.', 'H', '.', '.', 'H', '.', '.', '.']     10\n",
      "['.', '.', '.', '.', '.', '.', '.', '.', '.', '.', '.']     9\n",
      "['.', '.', '.', '.', '.', '.', '.', '.', '.', '.', '.']     8\n",
      "['.', 'P', '.', '.', 'H', 'P', '.', 'H', '.', '.', '.']     7\n",
      "['.', '.', '.', '.', '.', '.', '.', '.', '.', '.', '.']     6\n",
      "['.', '.', '.', '.', '.', '.', '.', '.', '.', '.', '.']     5\n",
      "['.', 'H', '.', '.', 'H', '.', '.', 'H', '.', '.', '.']     4\n",
      "['.', '.', '.', '.', '.', '.', '.', '.', '.', '.', '.']     3\n",
      "['.', '.', '.', '.', '.', '.', '.', '.', '.', '.', '.']     2\n",
      "['.', 'H', '.', 'P', 'H', 'P', '.', 'H', '.', '.', '.']     1\n",
      "['.', '.', '.', '.', '.', '.', '.', '.', '.', '.', '.']     0\n",
      "['0', '1', '2', '3', '4', '5', '6', '7', '8', '9', '10']\n"
     ]
    }
   ],
   "source": [
    "print_wall(x_size, y_size, [(hold.x, hold.y) for hold in hard_wall_holds], goal_x, goal_y)"
   ]
  },
  {
   "cell_type": "markdown",
   "metadata": {},
   "source": [
    "## Small Wall"
   ]
  },
  {
   "cell_type": "code",
   "execution_count": 60,
   "metadata": {},
   "outputs": [
    {
     "name": "stdout",
     "output_type": "stream",
     "text": [
      "['.', 'H', '.', 'H', '.', 'H', '.', 'G']     13\n",
      "['.', '.', '.', '.', '.', '.', '.', '.']     12\n",
      "['.', 'H', '.', 'H', '.', 'H', '.', 'H']     11\n",
      "['.', '.', '.', '.', '.', '.', '.', '.']     10\n",
      "['.', 'H', '.', 'H', '.', 'H', '.', 'H']     9\n",
      "['.', '.', '.', '.', '.', '.', '.', '.']     8\n",
      "['.', 'P', '.', 'H', '.', 'P', '.', 'H']     7\n",
      "['.', '.', '.', '.', '.', '.', '.', '.']     6\n",
      "['.', 'H', '.', 'H', '.', 'H', '.', 'H']     5\n",
      "['.', '.', '.', '.', '.', '.', '.', '.']     4\n",
      "['.', 'H', '.', 'H', '.', 'H', '.', 'H']     3\n",
      "['.', '.', '.', '.', '.', '.', '.', '.']     2\n",
      "['.', 'H', '.', 'P', '.', 'P', '.', 'H']     1\n",
      "['.', '.', '.', '.', '.', '.', '.', '.']     0\n",
      "['0', '1', '2', '3', '4', '5', '6', '7']\n"
     ]
    }
   ],
   "source": [
    "print_wall(8, 14, [(hold.x, hold.y) for hold in small_wall_holds], 7, 13)"
   ]
  },
  {
   "cell_type": "markdown",
   "metadata": {},
   "source": [
    "## Big Wall"
   ]
  },
  {
   "cell_type": "code",
   "execution_count": 65,
   "metadata": {},
   "outputs": [
    {
     "name": "stdout",
     "output_type": "stream",
     "text": [
      "['.', 'H', '.', '.', 'H', '.', '.', 'H', '.', '.', 'H', '.', '.', 'H', '.', '.', 'H', '.', '.', 'G', '.']     25\n",
      "['.', '.', '.', '.', '.', '.', '.', '.', '.', '.', '.', '.', '.', '.', '.', '.', '.', '.', '.', '.', '.']     24\n",
      "['.', '.', '.', '.', '.', '.', '.', '.', '.', '.', '.', '.', '.', '.', '.', '.', '.', '.', '.', '.', '.']     23\n",
      "['.', 'H', '.', '.', 'H', '.', '.', 'H', '.', '.', 'H', '.', '.', 'H', '.', '.', 'H', '.', '.', 'H', '.']     22\n",
      "['.', '.', '.', '.', '.', '.', '.', '.', '.', '.', '.', '.', '.', '.', '.', '.', '.', '.', '.', '.', '.']     21\n",
      "['.', '.', '.', '.', '.', '.', '.', '.', '.', '.', '.', '.', '.', '.', '.', '.', '.', '.', '.', '.', '.']     20\n",
      "['.', 'H', '.', '.', 'H', '.', '.', 'H', '.', '.', 'H', '.', '.', 'H', '.', '.', 'H', '.', '.', 'H', '.']     19\n",
      "['.', '.', '.', '.', '.', '.', '.', '.', '.', '.', '.', '.', '.', '.', '.', '.', '.', '.', '.', '.', '.']     18\n",
      "['.', '.', '.', '.', '.', '.', '.', '.', '.', '.', '.', '.', '.', '.', '.', '.', '.', '.', '.', '.', '.']     17\n",
      "['.', 'H', '.', '.', 'H', '.', '.', 'H', '.', '.', 'H', '.', '.', 'H', '.', '.', 'H', '.', '.', 'H', '.']     16\n",
      "['.', '.', '.', '.', '.', '.', '.', '.', '.', '.', '.', '.', '.', '.', '.', '.', '.', '.', '.', '.', '.']     15\n",
      "['.', '.', '.', '.', '.', '.', '.', '.', '.', '.', '.', '.', '.', '.', '.', '.', '.', '.', '.', '.', '.']     14\n",
      "['.', 'H', '.', '.', 'H', '.', '.', 'H', '.', '.', 'H', '.', '.', 'H', '.', '.', 'H', '.', '.', 'H', '.']     13\n",
      "['.', '.', '.', '.', '.', '.', '.', '.', '.', '.', '.', '.', '.', '.', '.', '.', '.', '.', '.', '.', '.']     12\n",
      "['.', '.', '.', '.', '.', '.', '.', '.', '.', '.', '.', '.', '.', '.', '.', '.', '.', '.', '.', '.', '.']     11\n",
      "['.', 'H', '.', '.', 'H', '.', '.', 'H', '.', '.', 'H', '.', '.', 'H', '.', '.', 'H', '.', '.', 'H', '.']     10\n",
      "['.', '.', '.', '.', '.', '.', '.', '.', '.', '.', '.', '.', '.', '.', '.', '.', '.', '.', '.', '.', '.']     9\n",
      "['.', '.', '.', '.', '.', '.', '.', '.', '.', '.', '.', '.', '.', '.', '.', '.', '.', '.', '.', '.', '.']     8\n",
      "['.', 'P', '.', '.', 'H', 'P', '.', 'H', '.', '.', 'H', '.', '.', 'H', '.', '.', 'H', '.', '.', 'H', '.']     7\n",
      "['.', '.', '.', '.', '.', '.', '.', '.', '.', '.', '.', '.', '.', '.', '.', '.', '.', '.', '.', '.', '.']     6\n",
      "['.', '.', '.', '.', '.', '.', '.', '.', '.', '.', '.', '.', '.', '.', '.', '.', '.', '.', '.', '.', '.']     5\n",
      "['.', 'H', '.', '.', 'H', '.', '.', 'H', '.', '.', 'H', '.', '.', 'H', '.', '.', 'H', '.', '.', 'H', '.']     4\n",
      "['.', '.', '.', '.', '.', '.', '.', '.', '.', '.', '.', '.', '.', '.', '.', '.', '.', '.', '.', '.', '.']     3\n",
      "['.', '.', '.', '.', '.', '.', '.', '.', '.', '.', '.', '.', '.', '.', '.', '.', '.', '.', '.', '.', '.']     2\n",
      "['.', 'H', '.', 'P', 'H', 'P', '.', 'H', '.', '.', 'H', '.', '.', 'H', '.', '.', 'H', '.', '.', 'H', '.']     1\n",
      "['.', '.', '.', '.', '.', '.', '.', '.', '.', '.', '.', '.', '.', '.', '.', '.', '.', '.', '.', '.', '.']     0\n",
      "['0', '1', '2', '3', '4', '5', '6', '7', '8', '9', '10', '11', '12', '13', '14', '15', '16', '17', '18', '19', '20']\n"
     ]
    }
   ],
   "source": [
    "print_wall(21, 26, [(hold.x, hold.y) for hold in big_wall_holds], 19, 25)"
   ]
  }
 ],
 "metadata": {
  "kernelspec": {
   "display_name": "Python 3",
   "language": "python",
   "name": "python3"
  },
  "language_info": {
   "codemirror_mode": {
    "name": "ipython",
    "version": 3
   },
   "file_extension": ".py",
   "mimetype": "text/x-python",
   "name": "python",
   "nbconvert_exporter": "python",
   "pygments_lexer": "ipython3",
   "version": "3.11.0"
  }
 },
 "nbformat": 4,
 "nbformat_minor": 2
}
