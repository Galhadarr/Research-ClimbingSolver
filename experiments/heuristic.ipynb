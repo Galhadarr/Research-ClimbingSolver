{
 "cells": [
  {
   "cell_type": "code",
   "execution_count": 1,
   "metadata": {},
   "outputs": [],
   "source": [
    "import time\n",
    "import pandas as pd\n",
    "import numpy as np\n",
    "import sys\n",
    "sys.path.append(\"..\")\n",
    "from algorithm import a_star_algorithm\n",
    "from arm_state import ArmState, set_arm_length\n",
    "from hold import Hold\n",
    "from human_state import HumanState, set_leg_spread\n",
    "from leg_state import LegState, set_leg_length\n",
    "from utils import Side\n",
    "from search_node import Search_Node"
   ]
  },
  {
   "cell_type": "markdown",
   "metadata": {},
   "source": [
    "### Walls"
   ]
  },
  {
   "cell_type": "code",
   "execution_count": 2,
   "metadata": {},
   "outputs": [],
   "source": [
    "# Define wall holds and goal state positions.\n",
    "wall_holds: list[Hold] = [\n",
    "    Hold(x,y) for x in range(1, 11, 2) for y in range(1, 21, 2)\n",
    "    ]\n",
    "\n",
    "goal_state_positions = [np.array([9,19]), np.array([9,19])]"
   ]
  },
  {
   "cell_type": "code",
   "execution_count": 3,
   "metadata": {},
   "outputs": [],
   "source": [
    "# Define wall holds and goal state positions to small wall.\n",
    "small_wall_holds: list[Hold] = [\n",
    "    Hold(x,y) for x in range(1, 8, 2) for y in range(1, 14, 2)\n",
    "    ]\n",
    "\n",
    "goal_state_positions = [np.array([7,13]), np.array([7,13])]"
   ]
  },
  {
   "cell_type": "code",
   "execution_count": 4,
   "metadata": {},
   "outputs": [],
   "source": [
    "# Define wall holds and goal state positions to big wall.\n",
    "big_wall_holds: list[Hold] = [\n",
    "    Hold(x,y) for x in range(1, 21, 3) for y in range(1, 26, 3)\n",
    "    ]\n",
    "big_wall_holds.append(Hold(3, 1))\n",
    "big_wall_holds.append(Hold(5, 1))\n",
    "big_wall_holds.append(Hold(5, 7))\n",
    "\n",
    "goal_state_positions = [np.array([19,25]), np.array([19,25])]"
   ]
  },
  {
   "cell_type": "markdown",
   "metadata": {},
   "source": [
    "### Climber"
   ]
  },
  {
   "cell_type": "code",
   "execution_count": 5,
   "metadata": {},
   "outputs": [],
   "source": [
    "# Define starting left leg configuration.\n",
    "starting_left_foot_hold = Hold(3, 1)\n",
    "starting_left_knee_position = np.array([2,2.75])\n",
    "starting_left_hip_position = np.array([3, 4])\n",
    "\n",
    "# Define starting right leg configuration.\n",
    "starting_right_foot_hold = Hold(5, 1)\n",
    "starting_right_knee_position = np.array([6, 2.75])\n",
    "starting_right_hip_position = np.array([5, 4])\n",
    "\n",
    "# Define starting left arm configuration.\n",
    "starting_left_hand_hold = Hold(1, 7)\n",
    "starting_left_shoulder_position = np.array([3, 5.5])\n",
    "\n",
    "# Define starting right arm configuration.\n",
    "starting_right_hand_hold = Hold(5,7)\n",
    "starting_right_shoulder_position = np.array([5, 5.5])\n",
    "\n",
    "# Define initial human state based on starting body configurations.\n",
    "starting_left_leg_state = LegState(Side.LEFT, starting_left_foot_hold, starting_left_knee_position,\n",
    "                                    starting_left_hip_position)\n",
    "starting_right_leg_state = LegState(Side.RIGHT, starting_right_foot_hold, starting_right_knee_position,\n",
    "                                    starting_right_hip_position)\n",
    "starting_left_arm_state = ArmState(Side.LEFT, starting_left_hand_hold, starting_left_shoulder_position)\n",
    "starting_right_arm_state = ArmState(Side.RIGHT, starting_right_hand_hold, starting_right_shoulder_position)\n",
    "starting_human_state = HumanState(starting_left_leg_state, starting_right_leg_state, starting_left_arm_state,\n",
    "                                    starting_right_arm_state)\n",
    "\n",
    "# Define body physique constants.\n",
    "set_leg_spread(np.float_(np.float64(2.0943951)))\n",
    "set_arm_length(np.float_(np.float64(2.5)))\n",
    "set_leg_length(starting_right_foot_hold, starting_right_knee_position, starting_right_hip_position)"
   ]
  },
  {
   "cell_type": "markdown",
   "metadata": {},
   "source": [
    "# heuristic function"
   ]
  },
  {
   "cell_type": "code",
   "execution_count": 7,
   "metadata": {},
   "outputs": [],
   "source": [
    "def heuristic(wall_holds, calculate_heuristic=None):\n",
    "    generated_nodes=[]\n",
    "    # start timer to mesure time\n",
    "    import time\n",
    "    start = time.time()\n",
    "    # Run A* algorithm.\n",
    "    if calculate_heuristic is not None:\n",
    "        path:list[Search_Node] | None = a_star_algorithm(starting_human_state, goal_state_positions, wall_holds, calculate_heuristic, generated_nodes)\n",
    "    else:\n",
    "        path:list[Search_Node] | None = a_star_algorithm(starting_human_state, goal_state_positions, wall_holds, generated_nodes=generated_nodes)\n",
    "    # stop timer\n",
    "    end = time.time()\n",
    "    num_generated_nodes = len(generated_nodes)\n",
    "    time =  (end - start) / 60\n",
    "    return num_generated_nodes, time"
   ]
  },
  {
   "cell_type": "markdown",
   "metadata": {},
   "source": [
    "# Heuristic of 0"
   ]
  },
  {
   "cell_type": "code",
   "execution_count": 19,
   "metadata": {},
   "outputs": [],
   "source": [
    "def calculate_heuristic(node: Search_Node, goal_state_positions):\n",
    "    return 0"
   ]
  },
  {
   "cell_type": "code",
   "execution_count": 20,
   "metadata": {},
   "outputs": [
    {
     "data": {
      "text/plain": [
       "(37346, 8.191353273391723)"
      ]
     },
     "execution_count": 20,
     "metadata": {},
     "output_type": "execute_result"
    }
   ],
   "source": [
    "num_generated_node_small_0, time_small_0 = heuristic(small_wall_holds,calculate_heuristic)\n",
    "num_generated_node_small_0, time_small_0"
   ]
  },
  {
   "cell_type": "code",
   "execution_count": 21,
   "metadata": {},
   "outputs": [
    {
     "data": {
      "text/plain": [
       "(96421, 33.65082120895386)"
      ]
     },
     "execution_count": 21,
     "metadata": {},
     "output_type": "execute_result"
    }
   ],
   "source": [
    "num_generated_node_0, time_0 = heuristic(wall_holds, calculate_heuristic)\n",
    "num_generated_node_0, time_0"
   ]
  },
  {
   "cell_type": "code",
   "execution_count": 22,
   "metadata": {},
   "outputs": [
    {
     "data": {
      "text/plain": [
       "(7677, 2.1510249813397726)"
      ]
     },
     "execution_count": 22,
     "metadata": {},
     "output_type": "execute_result"
    }
   ],
   "source": [
    "num_generated_node_big_0, time_big_0 = heuristic(big_wall_holds, calculate_heuristic)\n",
    "num_generated_node_big_0, time_big_0"
   ]
  },
  {
   "cell_type": "markdown",
   "metadata": {},
   "source": [
    "# our Heurstic"
   ]
  },
  {
   "cell_type": "code",
   "execution_count": 7,
   "metadata": {},
   "outputs": [
    {
     "data": {
      "text/plain": [
       "(37351, 9.00612288316091)"
      ]
     },
     "execution_count": 7,
     "metadata": {},
     "output_type": "execute_result"
    }
   ],
   "source": [
    "num_generated_node_small_our, time_small_our = heuristic(small_wall_holds)\n",
    "num_generated_node_small_our, time_small_our"
   ]
  },
  {
   "cell_type": "code",
   "execution_count": 16,
   "metadata": {},
   "outputs": [
    {
     "data": {
      "text/plain": [
       "(95899, 29.936403981844585)"
      ]
     },
     "execution_count": 16,
     "metadata": {},
     "output_type": "execute_result"
    }
   ],
   "source": [
    "num_generated_node_medium_our, time_medium_our = heuristic(wall_holds)\n",
    "num_generated_node_medium_our, time_medium_our"
   ]
  },
  {
   "cell_type": "code",
   "execution_count": 15,
   "metadata": {},
   "outputs": [
    {
     "data": {
      "text/plain": [
       "(7240, 2.696656012535095)"
      ]
     },
     "execution_count": 15,
     "metadata": {},
     "output_type": "execute_result"
    }
   ],
   "source": [
    "num_generated_node_big_our, time_big_our = heuristic(big_wall_holds)\n",
    "num_generated_node_big_our, time_big_our"
   ]
  },
  {
   "cell_type": "code",
   "execution_count": 17,
   "metadata": {},
   "outputs": [],
   "source": [
    "num_generated_node_medium_our, time_medium_our = 95899, 29.936403981844585\n",
    "\n",
    "num_generated_node_big_our, time_big_our = 7240, 2.696656012535095\n"
   ]
  },
  {
   "cell_type": "markdown",
   "metadata": {},
   "source": [
    "# Weight A*"
   ]
  },
  {
   "cell_type": "markdown",
   "metadata": {},
   "source": [
    "0.9 * h + 0.1 * g"
   ]
  },
  {
   "cell_type": "code",
   "execution_count": 8,
   "metadata": {},
   "outputs": [
    {
     "data": {
      "text/plain": [
       "(37364, 8.866348612308503)"
      ]
     },
     "execution_count": 8,
     "metadata": {},
     "output_type": "execute_result"
    }
   ],
   "source": [
    "num_generated_node_small_weight, time_small_weight = heuristic(small_wall_holds)\n",
    "num_generated_node_small_weight, time_small_weight"
   ]
  },
  {
   "cell_type": "code",
   "execution_count": 9,
   "metadata": {},
   "outputs": [
    {
     "data": {
      "text/plain": [
       "(95468, 28.95693159500758)"
      ]
     },
     "execution_count": 9,
     "metadata": {},
     "output_type": "execute_result"
    }
   ],
   "source": [
    "num_generated_node_medium_weight, time_medium_weight = heuristic(wall_holds)\n",
    "num_generated_node_medium_weight, time_medium_weight"
   ]
  },
  {
   "cell_type": "code",
   "execution_count": 10,
   "metadata": {},
   "outputs": [
    {
     "data": {
      "text/plain": [
       "(7240, 2.239032538731893)"
      ]
     },
     "execution_count": 10,
     "metadata": {},
     "output_type": "execute_result"
    }
   ],
   "source": [
    "num_generated_node_big_weight, time_big_weight = heuristic(big_wall_holds)\n",
    "num_generated_node_big_weight, time_big_weight"
   ]
  },
  {
   "cell_type": "markdown",
   "metadata": {},
   "source": [
    "# Compare"
   ]
  },
  {
   "cell_type": "code",
   "execution_count": 19,
   "metadata": {},
   "outputs": [],
   "source": [
    "# Create a dictionary with the data\n",
    "data = {\n",
    "    'wall size': ['small', 'small', 'small', 'medium', 'medium', 'medium', 'large', 'large', 'large'],\n",
    "    'heuristic': ['our heuristic', 'weight heuristic', 'no heuristic'] * 3,\n",
    "    'generate node': [num_generated_node_small_our, num_generated_node_small_weight, num_generated_node_small_0,\n",
    "                    num_generated_node_medium_our, num_generated_node_medium_weight, num_generated_node_0,\n",
    "                    num_generated_node_big_our, num_generated_node_big_weight, num_generated_node_big_0],\n",
    "    'time(minute)': [time_small_our, time_small_weight, time_small_0,\n",
    "                    time_medium_our, time_medium_weight, time_0,\n",
    "                    time_big_our, time_big_weight, time_big_0]  # Assuming time is in seconds\n",
    "}\n",
    "\n",
    "df = pd.DataFrame(data)"
   ]
  },
  {
   "cell_type": "code",
   "execution_count": 20,
   "metadata": {},
   "outputs": [
    {
     "data": {
      "text/html": [
       "<div>\n",
       "<style scoped>\n",
       "    .dataframe tbody tr th:only-of-type {\n",
       "        vertical-align: middle;\n",
       "    }\n",
       "\n",
       "    .dataframe tbody tr th {\n",
       "        vertical-align: top;\n",
       "    }\n",
       "\n",
       "    .dataframe thead th {\n",
       "        text-align: right;\n",
       "    }\n",
       "</style>\n",
       "<table border=\"1\" class=\"dataframe\">\n",
       "  <thead>\n",
       "    <tr style=\"text-align: right;\">\n",
       "      <th></th>\n",
       "      <th>wall size</th>\n",
       "      <th>heuristic</th>\n",
       "      <th>generate node</th>\n",
       "      <th>time(minute)</th>\n",
       "    </tr>\n",
       "  </thead>\n",
       "  <tbody>\n",
       "    <tr>\n",
       "      <th>0</th>\n",
       "      <td>small</td>\n",
       "      <td>our heuristic</td>\n",
       "      <td>37351</td>\n",
       "      <td>9.006123</td>\n",
       "    </tr>\n",
       "    <tr>\n",
       "      <th>1</th>\n",
       "      <td>small</td>\n",
       "      <td>weight heuristic</td>\n",
       "      <td>37364</td>\n",
       "      <td>8.866349</td>\n",
       "    </tr>\n",
       "    <tr>\n",
       "      <th>2</th>\n",
       "      <td>small</td>\n",
       "      <td>no heuristic</td>\n",
       "      <td>37346</td>\n",
       "      <td>8.191353</td>\n",
       "    </tr>\n",
       "    <tr>\n",
       "      <th>3</th>\n",
       "      <td>medium</td>\n",
       "      <td>our heuristic</td>\n",
       "      <td>95899</td>\n",
       "      <td>29.936404</td>\n",
       "    </tr>\n",
       "    <tr>\n",
       "      <th>4</th>\n",
       "      <td>medium</td>\n",
       "      <td>weight heuristic</td>\n",
       "      <td>95468</td>\n",
       "      <td>28.956932</td>\n",
       "    </tr>\n",
       "    <tr>\n",
       "      <th>5</th>\n",
       "      <td>medium</td>\n",
       "      <td>no heuristic</td>\n",
       "      <td>96421</td>\n",
       "      <td>33.650821</td>\n",
       "    </tr>\n",
       "    <tr>\n",
       "      <th>6</th>\n",
       "      <td>large</td>\n",
       "      <td>our heuristic</td>\n",
       "      <td>7240</td>\n",
       "      <td>2.696656</td>\n",
       "    </tr>\n",
       "    <tr>\n",
       "      <th>7</th>\n",
       "      <td>large</td>\n",
       "      <td>weight heuristic</td>\n",
       "      <td>7240</td>\n",
       "      <td>2.239033</td>\n",
       "    </tr>\n",
       "    <tr>\n",
       "      <th>8</th>\n",
       "      <td>large</td>\n",
       "      <td>no heuristic</td>\n",
       "      <td>7677</td>\n",
       "      <td>2.151025</td>\n",
       "    </tr>\n",
       "  </tbody>\n",
       "</table>\n",
       "</div>"
      ],
      "text/plain": [
       "  wall size         heuristic  generate node  time(minute)\n",
       "0     small     our heuristic          37351      9.006123\n",
       "1     small  weight heuristic          37364      8.866349\n",
       "2     small      no heuristic          37346      8.191353\n",
       "3    medium     our heuristic          95899     29.936404\n",
       "4    medium  weight heuristic          95468     28.956932\n",
       "5    medium      no heuristic          96421     33.650821\n",
       "6     large     our heuristic           7240      2.696656\n",
       "7     large  weight heuristic           7240      2.239033\n",
       "8     large      no heuristic           7677      2.151025"
      ]
     },
     "execution_count": 20,
     "metadata": {},
     "output_type": "execute_result"
    }
   ],
   "source": [
    "df"
   ]
  }
 ],
 "metadata": {
  "kernelspec": {
   "display_name": "Python 3",
   "language": "python",
   "name": "python3"
  },
  "language_info": {
   "codemirror_mode": {
    "name": "ipython",
    "version": 3
   },
   "file_extension": ".py",
   "mimetype": "text/x-python",
   "name": "python",
   "nbconvert_exporter": "python",
   "pygments_lexer": "ipython3",
   "version": "3.11.0"
  }
 },
 "nbformat": 4,
 "nbformat_minor": 2
}
